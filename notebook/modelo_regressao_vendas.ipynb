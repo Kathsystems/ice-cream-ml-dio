{
 "cells": [
  {
   "cell_type": "code",
   "execution_count": null,
   "id": "cf19f3de",
   "metadata": {},
   "outputs": [],
   "source": [
    "# Imports\n",
    "import pandas as pd\n",
    "import numpy as np\n",
    "from sklearn.linear_model import LinearRegression\n",
    "from sklearn.model_selection import train_test_split\n",
    "from sklearn.metrics import mean_squared_error, r2_score\n",
    "import matplotlib.pyplot as plt\n",
    "import mlflow\n",
    "import mlflow.sklearn\n",
    "\n",
    "# Gerar dados simulados\n",
    "np.random.seed(42)\n",
    "temperatura = np.random.uniform(20, 40, 100)\n",
    "vendas = temperatura * 10 + np.random.normal(0, 10, 100)\n",
    "df = pd.DataFrame({'temperatura': temperatura, 'vendas': vendas})\n",
    "\n",
    "# Treinamento\n",
    "X = df[['temperatura']]\n",
    "y = df['vendas']\n",
    "X_train, X_test, y_train, y_test = train_test_split(X, y, test_size=0.2)\n",
    "\n",
    "modelo = LinearRegression()\n",
    "modelo.fit(X_train, y_train)\n",
    "\n",
    "# Avaliação\n",
    "y_pred = modelo.predict(X_test)\n",
    "mse = mean_squared_error(y_test, y_pred)\n",
    "r2 = r2_score(y_test, y_pred)\n",
    "\n",
    "print(f\"MSE: {mse:.2f}\")\n",
    "print(f\"R²: {r2:.2f}\")\n",
    "\n",
    "# Gráfico\n",
    "plt.scatter(X_test, y_test, color='blue', label='Vendas reais')\n",
    "plt.plot(X_test, y_pred, color='red', label='Previsão')\n",
    "plt.xlabel('Temperatura (°C)')\n",
    "plt.ylabel('Vendas de Sorvete')\n",
    "plt.legend()\n",
    "plt.title('Previsão de Vendas com Regressão Linear')\n",
    "plt.show()\n",
    "\n",
    "# MLflow\n",
    "with mlflow.start_run():\n",
    "    mlflow.log_param(\"modelo\", \"LinearRegression\")\n",
    "    mlflow.log_metric(\"mse\", mse)\n",
    "    mlflow.log_metric(\"r2\", r2)\n",
    "    mlflow.sklearn.log_model(modelo, \"modelo_regressao\")\n"
   ]
  },
  {
   "cell_type": "code",
   "execution_count": null,
   "id": "c0230f68",
   "metadata": {},
   "outputs": [],
   "source": []
  },
  {
   "cell_type": "code",
   "execution_count": null,
   "id": "81cbc1fe",
   "metadata": {},
   "outputs": [],
   "source": []
  }
 ],
 "metadata": {
  "kernelspec": {
   "display_name": "Python 3",
   "language": "python",
   "name": "python3"
  },
  "language_info": {
   "codemirror_mode": {
    "name": "ipython",
    "version": 3
   },
   "file_extension": ".py",
   "mimetype": "text/x-python",
   "name": "python",
   "nbconvert_exporter": "python",
   "pygments_lexer": "ipython3",
   "version": "3.11.9"
  }
 },
 "nbformat": 4,
 "nbformat_minor": 5
}
